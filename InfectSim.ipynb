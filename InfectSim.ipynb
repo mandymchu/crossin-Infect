{
 "cells": [
  {
   "cell_type": "code",
   "execution_count": null,
   "metadata": {
    "collapsed": true
   },
   "outputs": [],
   "source": [
    "# Crossin的编程教室 （crossincode）\n",
    "# A side project to simulate the spread of infections and viruses\n",
    "\n",
    "\n",
    "# parameters\n",
    "AREA_SIZE = 100              # 区域大小 \n",
    "POPULATION = 100000          # 总人口数 \n",
    "BEDS_NUM_HOSP = 2000          # beds number of hospitals 医院床位 \n",
    "BEDS_NUM_MOBILE_HOSP = 10000  # beds number of mobile hospitals 方舱床位 \n",
    "\n",
    "INCUBATION_PERIOD_DISTR\n",
    "\n",
    "INCUBATION_PERIOD_DISTR = (5, 2) # distribution 潜伏期分布 \n",
    "DISEASE_PERIOD_DISTR = (10, 3)   # 发病期分布 \n",
    "INFECTION_START = -1             # 传染起始日 \n",
    "INFECTION_P = 0.5                # probability 传播概率 \n",
    "IMMUNITY_P = 0.1                 # 免疫概率\n",
    "SERVERE_P = 0.05                 # 重症概率\n",
    "DEATH_P = 0.1                    # 病亡概率 \n",
    "RECOVERED_P = 0.95               # 救治概率\n",
    "\n",
    "WILLINGNESS_HOSP = 0.1           # willingness to go to hospital 入院意愿\n",
    "WILLINGNESS_MOBILE_HOST = 0.99   # willingness to go to mobile hospital 进方舱概率 \n",
    "WILLINGNESS_MASK = 0             # willingness to wear mask 戴口罩意愿\n",
    "WILLINGNESS_OUTDOOR = 0.8        # willingness to be outdoor 出行意愿 = 0.8\n",
    "\n",
    "AREA_USUALLY_P = 0.8           # the probability of visiting places usually go 常住区域概率  \n",
    "AREA_NEARBY_P = 0.95           # the probability of visiting places nearby 周边出行概率\n",
    "\n",
    "RATIO_CONTACT = 0.5              # the ratio of contacts 接触比例\n",
    "ISOLATION_NUM = 1000             # the number of isolated people 警戒人数\n",
    "\n",
    "RELEASE_TIME = 999               # 解除时间 "
   ]
  },
  {
   "cell_type": "markdown",
   "metadata": {},
   "source": [
    "### MODEL 1: TRIP MODEL\n",
    "Here we simulates the behavior of every single people during daily trips"
   ]
  },
  {
   "cell_type": "code",
   "execution_count": 1,
   "metadata": {
    "collapsed": true
   },
   "outputs": [],
   "source": [
    "import random\n",
    "import numpy as np\n",
    "import matplotlib.pyplot as plot\n",
    "\n",
    "total_population_list = []\n",
    "patients_hosp_list = []           # patients in hospitals \n",
    "patients_mobile_hosp_list = []    # patients in mobile hospitals\n",
    "death_list = []\n",
    "\n",
    "# 区域分布列表 = [[[] for i in range(区域大小)] for j in range(区域大小)]\n",
    "\n",
    "class Person():\n",
    "    def __init__(self, i):\n",
    "        self.uid = i\n",
    "        self.x, self.y = self.random_location()\n",
    "        # set() method is used to convert any of the iterable to the distinct element \n",
    "        # and sorted sequence of iterable elements, commonly called Set.\n",
    "        self.area_usually_go = set() \n",
    "        self.area_usually_num = random.randint(3, 6)"
   ]
  },
  {
   "cell_type": "code",
   "execution_count": null,
   "metadata": {
    "collapsed": true
   },
   "outputs": [],
   "source": []
  }
 ],
 "metadata": {
  "kernelspec": {
   "display_name": "Python 3",
   "language": "python",
   "name": "python3"
  },
  "language_info": {
   "codemirror_mode": {
    "name": "ipython",
    "version": 3
   },
   "file_extension": ".py",
   "mimetype": "text/x-python",
   "name": "python",
   "nbconvert_exporter": "python",
   "pygments_lexer": "ipython3",
   "version": "3.6.2"
  }
 },
 "nbformat": 4,
 "nbformat_minor": 2
}
